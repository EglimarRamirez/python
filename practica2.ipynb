{
  "nbformat": 4,
  "nbformat_minor": 0,
  "metadata": {
    "colab": {
      "name": "practica2.ipynb",
      "provenance": [],
      "authorship_tag": "ABX9TyOq3VB4PcNTueDleE0yoog7",
      "include_colab_link": true
    },
    "kernelspec": {
      "name": "python3",
      "display_name": "Python 3"
    },
    "language_info": {
      "name": "python"
    }
  },
  "cells": [
    {
      "cell_type": "markdown",
      "metadata": {
        "id": "view-in-github",
        "colab_type": "text"
      },
      "source": [
        "<a href=\"https://colab.research.google.com/github/EglimarRamirez/python/blob/main/practica2.ipynb\" target=\"_parent\"><img src=\"https://colab.research.google.com/assets/colab-badge.svg\" alt=\"Open In Colab\"/></a>"
      ]
    },
    {
      "cell_type": "code",
      "execution_count": null,
      "metadata": {
        "colab": {
          "base_uri": "https://localhost:8080/"
        },
        "id": "FslvJJdPI0Po",
        "outputId": "f7beb6cf-af97-4ee7-b903-73783c4c5e2d"
      },
      "outputs": [
        {
          "output_type": "stream",
          "name": "stdout",
          "text": [
            "introduzca la posición de la serie de Fibonacci que desea conocer: 15\n",
            "El número de Fibonacci de la posición 15 es 610\n"
          ]
        }
      ],
      "source": [
        "#GENERADORES DE NÚMEROS DE FIBONACCI\n",
        "#permite conocer el número de la serie en la posición dada.\n",
        "\n",
        "\n",
        "def fibonacci_n(n):\n",
        "  if n == 1 or n == 2: \n",
        "     return 1\n",
        "  return fibonacci_n(n - 1) + fibonacci_n(n - 2)\n",
        "\n",
        "n= int(input(\"introduzca la posición de la serie de Fibonacci que desea conocer: \"))\n",
        "\n",
        "print(f\"El número de Fibonacci de la posición {n} es {fibonacci_n(n)}\")"
      ]
    },
    {
      "cell_type": "code",
      "source": [
        "# función denominada fibonacci que recibe el parámetro l, generará los l primeros números de Fibonacci.\n",
        "\n",
        "def fibonacci(l):\n",
        "  n1, n2 = 1, 1\n",
        "  yield 1\n",
        "  yield 1\n",
        "  for i in range(2, l):\n",
        "    n = n2 + n1\n",
        "    yield n\n",
        "    n2 = n1\n",
        "    n1= n\n",
        "\n",
        "f = int(input(\"introduzca la cantidad de números que quiere generar de la serie: \"))\n",
        "\n",
        "for f in fibonacci(f):\n",
        "  print(f)    "
      ],
      "metadata": {
        "id": "xd15skogLMM9",
        "colab": {
          "base_uri": "https://localhost:8080/"
        },
        "outputId": "8c257c75-173b-4763-8b66-5add7424d12c"
      },
      "execution_count": 13,
      "outputs": [
        {
          "output_type": "stream",
          "name": "stdout",
          "text": [
            "introduzca la cantidad de números que quiere generar de la serie: 15\n",
            "1\n",
            "1\n",
            "2\n",
            "3\n",
            "5\n",
            "8\n",
            "13\n",
            "21\n",
            "34\n",
            "55\n",
            "89\n",
            "144\n",
            "233\n",
            "377\n",
            "610\n"
          ]
        }
      ]
    }
  ]
}