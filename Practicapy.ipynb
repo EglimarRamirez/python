{
  "nbformat": 4,
  "nbformat_minor": 0,
  "metadata": {
    "colab": {
      "name": "Practicapy.ipynb",
      "provenance": [],
      "collapsed_sections": [],
      "mount_file_id": "1az_kefKN06dK6qJbauGrd7t8EMKAm_M4",
      "authorship_tag": "ABX9TyOvXXIM38wTAHoKbNtJPrJl",
      "include_colab_link": true
    },
    "kernelspec": {
      "name": "python3",
      "display_name": "Python 3"
    },
    "language_info": {
      "name": "python"
    }
  },
  "cells": [
    {
      "cell_type": "markdown",
      "metadata": {
        "id": "view-in-github",
        "colab_type": "text"
      },
      "source": [
        "<a href=\"https://colab.research.google.com/github/EglimarRamirez/python/blob/main/Practicapy.ipynb\" target=\"_parent\"><img src=\"https://colab.research.google.com/assets/colab-badge.svg\" alt=\"Open In Colab\"/></a>"
      ]
    },
    {
      "cell_type": "code",
      "execution_count": null,
      "metadata": {
        "id": "UgXIcUmcnUDX"
      },
      "outputs": [],
      "source": [
        ""
      ]
    }
  ]
}