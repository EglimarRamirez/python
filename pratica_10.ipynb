{
  "nbformat": 4,
  "nbformat_minor": 0,
  "metadata": {
    "colab": {
      "name": "pratica 10.ipynb",
      "provenance": [],
      "authorship_tag": "ABX9TyPHKfpg7cHJq8s8QkOrUZtw",
      "include_colab_link": true
    },
    "kernelspec": {
      "name": "python3",
      "display_name": "Python 3"
    },
    "language_info": {
      "name": "python"
    }
  },
  "cells": [
    {
      "cell_type": "markdown",
      "metadata": {
        "id": "view-in-github",
        "colab_type": "text"
      },
      "source": [
        "<a href=\"https://colab.research.google.com/github/EglimarRamirez/python/blob/main/pratica_10.ipynb\" target=\"_parent\"><img src=\"https://colab.research.google.com/assets/colab-badge.svg\" alt=\"Open In Colab\"/></a>"
      ]
    },
    {
      "cell_type": "code",
      "execution_count": 2,
      "metadata": {
        "colab": {
          "base_uri": "https://localhost:8080/"
        },
        "id": "ycp7OOvUcMP7",
        "outputId": "a03552c3-5ded-4dc3-a8ab-9301ca525956"
      },
      "outputs": [
        {
          "output_type": "execute_result",
          "data": {
            "text/plain": [
              "139"
            ]
          },
          "metadata": {},
          "execution_count": 2
        }
      ],
      "source": [
        "### USO DE FUNCIONES ###\n",
        "### PROGRAMANDO UNA FUNCIÓN QUE CALCULE EL VALOR DE UN POLINOMIO DE GRADO N \n",
        "### PARA UN VALOR DE X DADO.\n",
        "\n",
        "def poly(x, *coef): # poly reciba el valor de x y los coeficientes del polinomio (se recibirán como parámetros en un número variable)\n",
        "  fx = 0\n",
        "  for i in range(len(coef)):\n",
        "    fx += ( coef[i] * (x** i)) # el polinomio se ordena de manera ascendente\n",
        "  return fx  \n",
        "\n",
        "poly(3, 7, 2, 5, 0, 1) # llamado de la función"
      ]
    },
    {
      "cell_type": "markdown",
      "source": [
        "A continuación, vamos a escribir el código de una función que calcule el área de una función, es decir, la siguiente integral definida:\n",
        "\n",
        "$$ \\int_a^b f(x)dx $$\n",
        "\n",
        "La tarea a desarrollar es la programación de una función denominada `integral` que reciba como parámetros `a`, `b` y `n`, y devuelva el área del polinomio:\n",
        "\n",
        "$$ p(x) = -1 + 2x + x^2 $$"
      ],
      "metadata": {
        "id": "6T1nSB4309Nm"
      }
    },
    {
      "cell_type": "code",
      "source": [
        "def integral(a, b, n):\n",
        "  area = 0\n",
        "  ancho = (b - a) / n\n",
        "  for i in range(n):\n",
        "    x = a + i * (b - a) / n\n",
        "    alto = poly(x, -1, 2, 1 )\n",
        "    area += ancho * alto\n",
        "  return area  \n",
        "\n",
        "area_aprox = integral(0, 5, 10000)\n",
        "print(f\"{area_aprox:.2f} UA\")"
      ],
      "metadata": {
        "colab": {
          "base_uri": "https://localhost:8080/"
        },
        "id": "wYwDBOfNg4T9",
        "outputId": "ccb249cc-dcde-436b-fb06-0aba5acdc0d7"
      },
      "execution_count": 4,
      "outputs": [
        {
          "output_type": "stream",
          "name": "stdout",
          "text": [
            "61.66 UA\n"
          ]
        }
      ]
    }
  ]
}