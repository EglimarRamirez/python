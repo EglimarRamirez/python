{
  "nbformat": 4,
  "nbformat_minor": 0,
  "metadata": {
    "colab": {
      "name": "Práctica11.ipynb",
      "provenance": [],
      "authorship_tag": "ABX9TyMtrINsX4cgZx8gd7RMw8Xj",
      "include_colab_link": true
    },
    "kernelspec": {
      "name": "python3",
      "display_name": "Python 3"
    },
    "language_info": {
      "name": "python"
    }
  },
  "cells": [
    {
      "cell_type": "markdown",
      "metadata": {
        "id": "view-in-github",
        "colab_type": "text"
      },
      "source": [
        "<a href=\"https://colab.research.google.com/github/EglimarRamirez/python/blob/main/Pr%C3%A1ctica11.ipynb\" target=\"_parent\"><img src=\"https://colab.research.google.com/assets/colab-badge.svg\" alt=\"Open In Colab\"/></a>"
      ]
    },
    {
      "cell_type": "code",
      "execution_count": 4,
      "metadata": {
        "colab": {
          "base_uri": "https://localhost:8080/"
        },
        "id": "cbIcaXZlky-v",
        "outputId": "c15788ae-4d0c-4434-bfbd-fb8f52ab9c17"
      },
      "outputs": [
        {
          "output_type": "execute_result",
          "data": {
            "text/plain": [
              "17"
            ]
          },
          "metadata": {},
          "execution_count": 4
        }
      ],
      "source": [
        "## USO DE FUNCIONES ##\n",
        "## MINI SCRABBLE ##\n",
        "\n",
        "# Se pide programar una función denominada scrabble que reciba varios parámetros. \n",
        "# El primer parámetro, llamado palabra, será obligatorio, y será la cadena de texto con la palabra a evaluar.\n",
        "# El segundo parámetro se llamará mult y será opcional. Por defecto tomará el valor 1, y servirá para multiplicar la puntuación de la palabra.\n",
        "# Finalmente, la función recibirá un número variable de parámetros nominales, que indicarán la puntuación de cada una de las letras que componen la palabra.\n",
        "\n",
        "# La función debe devolver la puntuación obtenida, teniendo en cuenta el factor multiplicador.\n",
        "# Si la función no encuentr la puntuación de alguna de las letras que conforman la palabra,\n",
        "# deberá lanzar una excepción indicando el error\n",
        "\n",
        "def scrabble(palabra, mult = 1, **puntuaciones):\n",
        "  puntos = 0\n",
        "  for letra in palabra.upper(): \n",
        "    if letra not in puntuaciones.keys():\n",
        "      raise Exception(f\"la letra {letra} no tiene puntos asociados \")\n",
        "      \n",
        "    puntos += puntuaciones[letra]\n",
        "  return  puntos * mult\n",
        "\n",
        "scrabble(\"ZAPATO\", Z = 10, A = 1, P = 3, T = 1, O = 1)"
      ]
    },
    {
      "cell_type": "code",
      "source": [
        "scrabble(\"plaza\", mult = 2, P = 3, L = 1, A = 1, Z= 10)"
      ],
      "metadata": {
        "colab": {
          "base_uri": "https://localhost:8080/"
        },
        "id": "KYoFo11cnZjJ",
        "outputId": "4e808e56-41dd-472e-bc1d-7acab5d9ed22"
      },
      "execution_count": 5,
      "outputs": [
        {
          "output_type": "execute_result",
          "data": {
            "text/plain": [
              "32"
            ]
          },
          "metadata": {},
          "execution_count": 5
        }
      ]
    },
    {
      "cell_type": "code",
      "source": [
        "scrabble(\"tamaño\", T = 1, A = 1, M = 3, O = 1)"
      ],
      "metadata": {
        "colab": {
          "base_uri": "https://localhost:8080/",
          "height": 287
        },
        "id": "cOnuJ17Dn399",
        "outputId": "a556cc62-d55c-4e98-ea6c-b4f36dd69046"
      },
      "execution_count": 6,
      "outputs": [
        {
          "output_type": "error",
          "ename": "Exception",
          "evalue": "ignored",
          "traceback": [
            "\u001b[0;31m---------------------------------------------------------------------------\u001b[0m",
            "\u001b[0;31mException\u001b[0m                                 Traceback (most recent call last)",
            "\u001b[0;32m<ipython-input-6-3695a6b28188>\u001b[0m in \u001b[0;36m<module>\u001b[0;34m()\u001b[0m\n\u001b[0;32m----> 1\u001b[0;31m \u001b[0mscrabble\u001b[0m\u001b[0;34m(\u001b[0m\u001b[0;34m\"tamaño\"\u001b[0m\u001b[0;34m,\u001b[0m \u001b[0mT\u001b[0m \u001b[0;34m=\u001b[0m \u001b[0;36m1\u001b[0m\u001b[0;34m,\u001b[0m \u001b[0mA\u001b[0m \u001b[0;34m=\u001b[0m \u001b[0;36m1\u001b[0m\u001b[0;34m,\u001b[0m \u001b[0mM\u001b[0m \u001b[0;34m=\u001b[0m \u001b[0;36m3\u001b[0m\u001b[0;34m,\u001b[0m \u001b[0mO\u001b[0m \u001b[0;34m=\u001b[0m \u001b[0;36m1\u001b[0m\u001b[0;34m)\u001b[0m\u001b[0;34m\u001b[0m\u001b[0;34m\u001b[0m\u001b[0m\n\u001b[0m",
            "\u001b[0;32m<ipython-input-4-d909666aab6c>\u001b[0m in \u001b[0;36mscrabble\u001b[0;34m(palabra, mult, **puntuaciones)\u001b[0m\n\u001b[1;32m     15\u001b[0m   \u001b[0;32mfor\u001b[0m \u001b[0mletra\u001b[0m \u001b[0;32min\u001b[0m \u001b[0mpalabra\u001b[0m\u001b[0;34m.\u001b[0m\u001b[0mupper\u001b[0m\u001b[0;34m(\u001b[0m\u001b[0;34m)\u001b[0m\u001b[0;34m:\u001b[0m\u001b[0;34m\u001b[0m\u001b[0;34m\u001b[0m\u001b[0m\n\u001b[1;32m     16\u001b[0m     \u001b[0;32mif\u001b[0m \u001b[0mletra\u001b[0m \u001b[0;32mnot\u001b[0m \u001b[0;32min\u001b[0m \u001b[0mpuntuaciones\u001b[0m\u001b[0;34m.\u001b[0m\u001b[0mkeys\u001b[0m\u001b[0;34m(\u001b[0m\u001b[0;34m)\u001b[0m\u001b[0;34m:\u001b[0m\u001b[0;34m\u001b[0m\u001b[0;34m\u001b[0m\u001b[0m\n\u001b[0;32m---> 17\u001b[0;31m       \u001b[0;32mraise\u001b[0m \u001b[0mException\u001b[0m\u001b[0;34m(\u001b[0m\u001b[0;34mf\"la letra {letra} no tiene puntos asociados \"\u001b[0m\u001b[0;34m)\u001b[0m\u001b[0;34m\u001b[0m\u001b[0;34m\u001b[0m\u001b[0m\n\u001b[0m\u001b[1;32m     18\u001b[0m \u001b[0;34m\u001b[0m\u001b[0m\n\u001b[1;32m     19\u001b[0m     \u001b[0mpuntos\u001b[0m \u001b[0;34m+=\u001b[0m \u001b[0mpuntuaciones\u001b[0m\u001b[0;34m[\u001b[0m\u001b[0mletra\u001b[0m\u001b[0;34m]\u001b[0m\u001b[0;34m\u001b[0m\u001b[0;34m\u001b[0m\u001b[0m\n",
            "\u001b[0;31mException\u001b[0m: la letra Ñ no tiene puntos asociados "
          ]
        }
      ]
    }
  ]
}