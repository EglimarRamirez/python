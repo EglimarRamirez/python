{
  "nbformat": 4,
  "nbformat_minor": 0,
  "metadata": {
    "colab": {
      "name": "prática 7.ipynb",
      "provenance": [],
      "authorship_tag": "ABX9TyOqboBINMz/62/LR7iec5nV",
      "include_colab_link": true
    },
    "kernelspec": {
      "name": "python3",
      "display_name": "Python 3"
    },
    "language_info": {
      "name": "python"
    }
  },
  "cells": [
    {
      "cell_type": "markdown",
      "metadata": {
        "id": "view-in-github",
        "colab_type": "text"
      },
      "source": [
        "<a href=\"https://colab.research.google.com/github/EglimarRamirez/python/blob/main/pr%C3%A1tica_7.ipynb\" target=\"_parent\"><img src=\"https://colab.research.google.com/assets/colab-badge.svg\" alt=\"Open In Colab\"/></a>"
      ]
    },
    {
      "cell_type": "code",
      "execution_count": 1,
      "metadata": {
        "colab": {
          "base_uri": "https://localhost:8080/"
        },
        "id": "Zjl3pk3YlzEq",
        "outputId": "5e32ddfb-73a2-47c2-f71a-7307f622f892"
      },
      "outputs": [
        {
          "output_type": "stream",
          "name": "stdout",
          "text": [
            "José Fernández ha aprobado la asignatura\n",
            "Marina Jiménez ha aprobado la asignatura\n",
            "Francisco Ríos ha suspendido la asignatura\n",
            "Josefa Sánchez ha aprobado la asignatura\n",
            "Lucía Pisuerga ha suspendido la asignatura\n",
            "Antonio Callao ha suspendido la asignatura\n",
            "Felipe Barreno ha aprobado la asignatura\n",
            "Elena González ha aprobado la asignatura\n"
          ]
        }
      ],
      "source": [
        "#### ITERACIONES Y BUCLES ####\n",
        "### LA MEJOR NOTA ####\n",
        "\n",
        "### LISTA DE ESTUDIANTES CON SUS RESPECTIVAS NOTAS ###\n",
        "\n",
        "estudiantes = [\n",
        "    { \"nombre\": \"José Fernández\", \"nota\": 7.8 },\n",
        "    { \"nombre\": \"Marina Jiménez\", \"nota\": 8.5 },\n",
        "    { \"nombre\": \"Francisco Ríos\", \"nota\": 4.3 },\n",
        "    { \"nombre\": \"Josefa Sánchez\", \"nota\": 8.1 },\n",
        "    { \"nombre\": \"Lucía Pisuerga\", \"nota\": 4.8 },\n",
        "    { \"nombre\": \"Antonio Callao\", \"nota\": 3.8 },\n",
        "    { \"nombre\": \"Felipe Barreno\", \"nota\": 9.7 },\n",
        "    { \"nombre\": \"Elena González\", \"nota\": 5.1 }\n",
        "]\n",
        "\n",
        "### investigando qué estudiantes han aprobado o suspendido la materia ###\n",
        "\n",
        "for  estudiante in estudiantes:\n",
        "  if estudiante[\"nota\"] >= 5:\n",
        "    print( estudiante[\"nombre\"] + \" ha aprobado la asignatura\")\n",
        "  else:\n",
        "    print( estudiante[\"nombre\"] + \" ha suspendido la asignatura\") "
      ]
    },
    {
      "cell_type": "code",
      "source": [
        "### Calculando la nota media de la clase ###\n",
        "\n",
        "nota_suma = 0\n",
        "for estudiante in estudiantes:\n",
        "  nota_suma += estudiante[\"nota\"]\n",
        "nota_media = nota_suma / len(estudiantes)  \n",
        "print(f\"la nota media es {nota_media:.2f}\")"
      ],
      "metadata": {
        "colab": {
          "base_uri": "https://localhost:8080/"
        },
        "id": "zJ8HQ7qRngxW",
        "outputId": "bb014dc9-9464-460a-a8fb-264871179164"
      },
      "execution_count": 2,
      "outputs": [
        {
          "output_type": "stream",
          "name": "stdout",
          "text": [
            "la nota media es 6.51\n"
          ]
        }
      ]
    }
  ]
}