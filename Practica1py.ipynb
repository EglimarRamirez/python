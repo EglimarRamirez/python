{
  "nbformat": 4,
  "nbformat_minor": 0,
  "metadata": {
    "colab": {
      "name": "Practica1py.ipynb",
      "provenance": [],
      "collapsed_sections": [],
      "mount_file_id": "1az_kefKN06dK6qJbauGrd7t8EMKAm_M4",
      "authorship_tag": "ABX9TyMl0+U/y01oRVGWwJUfaIzb",
      "include_colab_link": true
    },
    "kernelspec": {
      "name": "python3",
      "display_name": "Python 3"
    },
    "language_info": {
      "name": "python"
    }
  },
  "cells": [
    {
      "cell_type": "markdown",
      "metadata": {
        "id": "view-in-github",
        "colab_type": "text"
      },
      "source": [
        "<a href=\"https://colab.research.google.com/github/EglimarRamirez/python/blob/main/Practica1py.ipynb\" target=\"_parent\"><img src=\"https://colab.research.google.com/assets/colab-badge.svg\" alt=\"Open In Colab\"/></a>"
      ]
    },
    {
      "cell_type": "code",
      "execution_count": 39,
      "metadata": {
        "id": "UgXIcUmcnUDX",
        "colab": {
          "base_uri": "https://localhost:8080/"
        },
        "outputId": "c87b2192-2791-4cbd-ad7c-0c42911fa6e3"
      },
      "outputs": [
        {
          "output_type": "stream",
          "name": "stdout",
          "text": [
            "El capital final es de 5386.42 €\n",
            "El gasto total en comisiones es de 300.00 €\n",
            "El saldo en cuenta tras 5 años es de 5086.42 €\n"
          ]
        }
      ],
      "source": [
        "# PRÁCTICA DE RENTABILIDAD DE INVERSIÓN CON VALORES INICIALES DADOS\n",
        "\n",
        "# Capital inicial (en €)\n",
        "C = 5000\n",
        "\n",
        "# Tipo de interés (en %, sobre 1)\n",
        "i = 0.015\n",
        "\n",
        "# Periodo (en años)\n",
        "n = 5\n",
        "\n",
        "# Cálculo del capital final (en €)\n",
        "M = C * (1 + i) ** n\n",
        "\n",
        "# Comisiones mensuales (en €)\n",
        "f = 5\n",
        "\n",
        "# Gastos totales atribuibles a comisiones durante todo el periodo (en €)\n",
        "G = f * 12 * n\n",
        "\n",
        "# Saldo final de la cuenta (en €)\n",
        "S = M - G\n",
        "\n",
        "print(f\"El capital final es de {M:.2f} €\")\n",
        "print(f\"El gasto total en comisiones es de {G:.2f} €\")\n",
        "print(f\"El saldo en cuenta tras {n} años es de {S:.2f} €\")"
      ]
    },
    {
      "cell_type": "code",
      "source": [
        "# a continuación código que muestra si la inversión ha sido rentable.\n",
        "\n",
        "if S > C:\n",
        "  print(f\"la inversión ha sido rentable, has aumentado tu capital en {(S - C):.2f} €\")\n",
        "else:\n",
        "  print(f\"la inversión no ha sido rentable. ha disminuido tu capital en {(C - S):.2f} €\") "
      ],
      "metadata": {
        "colab": {
          "base_uri": "https://localhost:8080/"
        },
        "id": "7gyXjmBZ7PJD",
        "outputId": "5115e816-bd98-47c0-aa22-fc11cbf949a9"
      },
      "execution_count": 40,
      "outputs": [
        {
          "output_type": "stream",
          "name": "stdout",
          "text": [
            "la inversión ha sido rentable, has aumentado tu capital en 86.42 €\n"
          ]
        }
      ]
    },
    {
      "cell_type": "code",
      "source": [
        "# el código a continuación muestra cuál es el capital minimo a invertir para no generar pérdidas,\n",
        "# con una capacidad máxima de inversión de 20000 €. \n",
        "\n",
        "for C in range(0, 20005, 5): # se asume que el banco solo nos deja aportar capitales que sean múltiplos de 5 €.\n",
        "  M = C * (1 + i) ** n\n",
        "  S = M - G\n",
        "  if S >= C:\n",
        "    print(f\" la cantidad de capital aportado de {C} € es la mínima para no acarrear pérdidas\")\n",
        "    break"
      ],
      "metadata": {
        "colab": {
          "base_uri": "https://localhost:8080/"
        },
        "id": "n69VnaVf6Aug",
        "outputId": "191f49ab-a7d8-446e-aa33-420f430ce021"
      },
      "execution_count": 41,
      "outputs": [
        {
          "output_type": "stream",
          "name": "stdout",
          "text": [
            " la cantidad de capital aportado de 3885 € es la mínima para no acarrear pérdidas\n"
          ]
        }
      ]
    }
  ]
}