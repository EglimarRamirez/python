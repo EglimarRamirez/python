{
  "nbformat": 4,
  "nbformat_minor": 0,
  "metadata": {
    "colab": {
      "name": "practica5.ipynb",
      "provenance": [],
      "authorship_tag": "ABX9TyO9kTSyAVstj2FB1l+kZsIK",
      "include_colab_link": true
    },
    "kernelspec": {
      "name": "python3",
      "display_name": "Python 3"
    },
    "language_info": {
      "name": "python"
    }
  },
  "cells": [
    {
      "cell_type": "markdown",
      "metadata": {
        "id": "view-in-github",
        "colab_type": "text"
      },
      "source": [
        "<a href=\"https://colab.research.google.com/github/EglimarRamirez/python/blob/main/practica5.ipynb\" target=\"_parent\"><img src=\"https://colab.research.google.com/assets/colab-badge.svg\" alt=\"Open In Colab\"/></a>"
      ]
    },
    {
      "cell_type": "code",
      "execution_count": null,
      "metadata": {
        "colab": {
          "base_uri": "https://localhost:8080/"
        },
        "id": "Rewpa_FsRF77",
        "outputId": "38e6d075-2fea-40d9-db31-fcdefb3ba75a"
      },
      "outputs": [
        {
          "output_type": "execute_result",
          "data": {
            "text/plain": [
              "[1.75,\n",
              " 1.56,\n",
              " 1.81,\n",
              " 1.67,\n",
              " 1.64,\n",
              " 1.71,\n",
              " 1.75,\n",
              " 1.64,\n",
              " 1.81,\n",
              " 1.67,\n",
              " 1.51,\n",
              " 1.83,\n",
              " 1.75,\n",
              " 1.68,\n",
              " 1.64,\n",
              " 1.59,\n",
              " 1.61,\n",
              " 1.82,\n",
              " 1.91,\n",
              " 1.48,\n",
              " 1.75,\n",
              " 1.57,\n",
              " 1.64,\n",
              " 1.85,\n",
              " 1.49,\n",
              " 1.54,\n",
              " 1.79,\n",
              " 1.91,\n",
              " 1.72,\n",
              " 2.01,\n",
              " 1.58,\n",
              " 1.84,\n",
              " 1.75,\n",
              " 1.67,\n",
              " 1.55,\n",
              " 1.66,\n",
              " 1.73,\n",
              " 1.55,\n",
              " 1.76,\n",
              " 1.8,\n",
              " 1.67,\n",
              " 1.59,\n",
              " 1.6,\n",
              " 1.77,\n",
              " 1.83]"
            ]
          },
          "metadata": {},
          "execution_count": 9
        }
      ],
      "source": [
        "#PRÁTICA SOBRE APERTURA DE FICHEROS Y CÁLCULO DE VALORES ESTADÍSTICOS DE LA MUESTRA\n",
        "\n",
        "with open(\"estaturas.txt\", \"r\") as f:\n",
        "  estaturas = [float(linea) for linea in f.readlines()]\n",
        "\n",
        "estaturas "
      ]
    },
    {
      "cell_type": "code",
      "source": [
        "#A continuación, imprimimos el tamaño de la muestra\n",
        "print(f\"la muestra tiene {len(estaturas)} mediciones\")\n",
        "print(f\"la estatura maxima es de {max(estaturas)} m. y la estatura mínima es de {min(estaturas)} m.\") "
      ],
      "metadata": {
        "colab": {
          "base_uri": "https://localhost:8080/"
        },
        "id": "hOLQdMWMiCzq",
        "outputId": "9c1d4089-be7c-4557-ada4-c243621dbede"
      },
      "execution_count": 14,
      "outputs": [
        {
          "output_type": "stream",
          "name": "stdout",
          "text": [
            "la muestra tiene 45 mediciones\n",
            "la estatura maxima es de 2.01 m. y la estatura mínima es de 1.48 m.\n"
          ]
        }
      ]
    },
    {
      "cell_type": "code",
      "source": [
        "# calculando la estatura media\n",
        "suma = 0\n",
        "for estatura in estaturas:\n",
        "  suma = suma + estatura\n",
        "media = suma / len(estaturas)  \n",
        "print(f\"la estatura media es de {media:.2f} m.\")"
      ],
      "metadata": {
        "colab": {
          "base_uri": "https://localhost:8080/"
        },
        "id": "d5sNB6T2iOGZ",
        "outputId": "569cba1f-8099-47b8-c03e-614c347127cf"
      },
      "execution_count": 17,
      "outputs": [
        {
          "output_type": "stream",
          "name": "stdout",
          "text": [
            "la estatura media es de 1.70 m.\n"
          ]
        }
      ]
    },
    {
      "cell_type": "code",
      "source": [
        "# calculando la desviación típica\n",
        "\n",
        "sum = 0\n",
        "for estatura in estaturas: \n",
        "  sum = sum + (estatura - media) ** 2\n",
        "desv_tip = (sum / (len(estaturas) - 1 )) ** 0.5\n",
        "print(f\"la desviación tipica es {desv_tip:.3f} m. \")  "
      ],
      "metadata": {
        "colab": {
          "base_uri": "https://localhost:8080/"
        },
        "id": "lCLhj_18iXCZ",
        "outputId": "51b0ccf5-5730-4c73-eabc-83746b713eb0"
      },
      "execution_count": 18,
      "outputs": [
        {
          "output_type": "stream",
          "name": "stdout",
          "text": [
            "la desviación tipica es 0.122 m. \n"
          ]
        }
      ]
    },
    {
      "cell_type": "code",
      "source": [
        "#  el programa ahora comparará la estatura del usuario con estatura con la media\n",
        "\n",
        "estatura_u = float(input(\"introduza su estatura: \"))\n",
        "\n",
        "if estatura_u > media:\n",
        "  print(f\"mides {((estatura_u - media) * 100):.0f} cm. más que la media.\")\n",
        "else:\n",
        "  print(f\"mides {((media - estatura_u) * 100):.0f} cm. menos que la media.\") "
      ],
      "metadata": {
        "colab": {
          "base_uri": "https://localhost:8080/"
        },
        "id": "8y6A37cLif54",
        "outputId": "5f47c9f7-d7d4-4ee5-c7aa-c61a50e91b18"
      },
      "execution_count": 19,
      "outputs": [
        {
          "output_type": "stream",
          "name": "stdout",
          "text": [
            "introduza su estatura: 1.54\n",
            "mides 16 cm. menos que la media.\n"
          ]
        }
      ]
    }
  ]
}