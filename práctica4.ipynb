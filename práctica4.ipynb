{
  "nbformat": 4,
  "nbformat_minor": 0,
  "metadata": {
    "colab": {
      "name": "práctica4.ipynb",
      "provenance": [],
      "authorship_tag": "ABX9TyO+uC2D14K80Z43eKmHOS+k",
      "include_colab_link": true
    },
    "kernelspec": {
      "name": "python3",
      "display_name": "Python 3"
    },
    "language_info": {
      "name": "python"
    }
  },
  "cells": [
    {
      "cell_type": "markdown",
      "metadata": {
        "id": "view-in-github",
        "colab_type": "text"
      },
      "source": [
        "<a href=\"https://colab.research.google.com/github/EglimarRamirez/python/blob/main/pr%C3%A1ctica4.ipynb\" target=\"_parent\"><img src=\"https://colab.research.google.com/assets/colab-badge.svg\" alt=\"Open In Colab\"/></a>"
      ]
    },
    {
      "cell_type": "code",
      "execution_count": 1,
      "metadata": {
        "colab": {
          "base_uri": "https://localhost:8080/"
        },
        "id": "rYUX6hVnPibY",
        "outputId": "660f1e9e-4b22-49cd-8401-34806bd3bb75"
      },
      "outputs": [
        {
          "output_type": "stream",
          "name": "stdout",
          "text": [
            "ingrese una palabra: zapato\n",
            "por jugar la palabra zapato has obtenido 17 puntos\n"
          ]
        }
      ],
      "source": [
        "# juego de scrabble\n",
        "\n",
        "puntuaciones = {\n",
        "    'A': 1,\n",
        "    'B': 3,\n",
        "    'C': 3,\n",
        "    'D': 2,\n",
        "    'E': 1,\n",
        "    'F': 4,\n",
        "    'G': 2,\n",
        "    'H': 4,\n",
        "    'I': 1,\n",
        "    'J': 8,\n",
        "    'L': 1,\n",
        "    'M': 3,\n",
        "    'N': 1,\n",
        "    'Ñ': 8,\n",
        "    'O': 1,\n",
        "    'P': 3,\n",
        "    'Q': 5,\n",
        "    'R': 1,\n",
        "    'S': 1,\n",
        "    'T': 1,\n",
        "    'U': 1,\n",
        "    'V': 4,\n",
        "    'X': 8,\n",
        "    'Y': 4,\n",
        "    'Z': 10,\n",
        "}\n",
        "\n",
        "palabra = input(\"ingrese una palabra: \")\n",
        "if len(palabra) > 7:\n",
        "  raise Exception(\"la palabra es muy larga, son máximo 7 letras\")\n",
        "\n",
        "for letra in palabra.upper():\n",
        "  if letra not in puntuaciones.keys():\n",
        "    raise Exception(f\"la letra {letra} no es válida\")\n",
        "\n",
        "puntos = 0\n",
        "for letra in palabra.upper():\n",
        "  puntos = puntos + puntuaciones[letra] \n",
        "print(f\"por jugar la palabra {palabra} has obtenido {puntos} puntos\")  "
      ]
    }
  ]
}