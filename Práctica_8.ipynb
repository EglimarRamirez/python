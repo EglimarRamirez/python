{
  "nbformat": 4,
  "nbformat_minor": 0,
  "metadata": {
    "colab": {
      "name": "Práctica 8.ipynb",
      "provenance": [],
      "authorship_tag": "ABX9TyOeA3EXDPSFydlObyOzU63A",
      "include_colab_link": true
    },
    "kernelspec": {
      "name": "python3",
      "display_name": "Python 3"
    },
    "language_info": {
      "name": "python"
    }
  },
  "cells": [
    {
      "cell_type": "markdown",
      "metadata": {
        "id": "view-in-github",
        "colab_type": "text"
      },
      "source": [
        "<a href=\"https://colab.research.google.com/github/EglimarRamirez/python/blob/main/Pr%C3%A1ctica_8.ipynb\" target=\"_parent\"><img src=\"https://colab.research.google.com/assets/colab-badge.svg\" alt=\"Open In Colab\"/></a>"
      ]
    },
    {
      "cell_type": "code",
      "execution_count": null,
      "metadata": {
        "id": "Hn7EaPL3oiI0"
      },
      "outputs": [],
      "source": [
        "### ITERACIONES Y BUCLES ###\n",
        "### CALCULANDO LA RAIZ DE UN POLINOMIO POR EL MÉTODO DE BISECCIÓN ###"
      ]
    },
    {
      "cell_type": "markdown",
      "metadata": {
        "id": "PRKQWS6_DT5J"
      },
      "source": [
        "Supongamos que tenemos la siguiente función:\n",
        "\n",
        "$$ f(x) = x^3-3x^2+3x-4 $$\n",
        "\n",
        "A continuación, vamos a ver la representación gráfica de esta función:\n",
        "\n",
        "NOTA: el código a continuación ya viene dado en el ejercicio\n"
      ]
    },
    {
      "cell_type": "code",
      "source": [
        "import matplotlib.pyplot as plt\n",
        "import numpy as np\n",
        "\n",
        "x = np.linspace(-5, 5, 100)\n",
        "y = x**3 - 3 * x**2 + 3 * x - 4\n",
        "\n",
        "plt.rcParams['figure.figsize'] = [6, 4]\n",
        "plt.rcParams['figure.dpi'] = 120\n",
        "plt.grid(axis='both', color='0.95')\n",
        "plt.ylim([-60, 60])\n",
        "plt.plot(x, x*0, 'k')\n",
        "plt.plot(x, y, 'r')\n",
        "plt.show()"
      ],
      "metadata": {
        "colab": {
          "base_uri": "https://localhost:8080/",
          "height": 440
        },
        "id": "DI4M-UP2vPSt",
        "outputId": "20473061-fd92-492d-e0ec-8eee04c6c97e"
      },
      "execution_count": 1,
      "outputs": [
        {
          "output_type": "display_data",
          "data": {
            "text/plain": [
              "<Figure size 720x480 with 1 Axes>"
            ],
            "image/png": "[encoded data removed]"
          },
          "metadata": {
            "needs_background": "light"
          }
        }
      ]
    },
    {
      "cell_type": "markdown",
      "source": [
        ""
      ],
      "metadata": {
        "id": "2oelbcOGvq3V"
      }
    },
    {
      "cell_type": "markdown",
      "metadata": {
        "id": "d_JHTu0bHu9p"
      },
      "source": [
        "En la figura anterior, podemos ver que la función (dibujada en rojo), se anula en un punto que se encuentra en algún lugar entre $x = 2$ y $x = 4$. Dicho punto es aquél en el que se corta la función con la recta $y = 0$ (dibujada en negro). Es el punto que queremos calcular.\n",
        "\n",
        "A continuación, el código para programar el método de la bisección:"
      ]
    },
    {
      "cell_type": "code",
      "source": [
        "### intervalo [a, b] donde se anula la función ###\n",
        "a = 2\n",
        "b = 4\n",
        "E = 1E-8 # Este es el margen de error máximo\n",
        "\n",
        "#función empleada es: x**3 - 3 * x**2 + 3 * x - 4\n",
        "\n",
        "# calculando el punto medio –m– del intervalo \n",
        "m = (a + b) / 2\n",
        "\n",
        "#calculando el valor de la función en dicho punto medio fm\n",
        "fm = m ** 3 - 3 * m ** 2 + 3 * m  - 4\n",
        "\n",
        "# inicio del bucle para buscar el valor dónde se anula la función\n",
        "while abs(fm-0) > E:  \n",
        "  if fm > 0:\n",
        "    b = m \n",
        "  else: \n",
        "    a = m \n",
        "\n",
        "  m = (a + b) / 2\n",
        "  fm = m ** 3 - 3 * m ** 2 + 3 * m  - 4\n",
        "print(f\"La función se anula en el punto x = {m:.4f}\")"
      ],
      "metadata": {
        "colab": {
          "base_uri": "https://localhost:8080/"
        },
        "id": "fQBoAxOwxguC",
        "outputId": "983890b3-7aa6-45b1-ea37-e6a4bb6d2054"
      },
      "execution_count": 2,
      "outputs": [
        {
          "output_type": "stream",
          "name": "stdout",
          "text": [
            "La función se anula en el punto x = 2.4422\n"
          ]
        }
      ]
    }
  ]
}