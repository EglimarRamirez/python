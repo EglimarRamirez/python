{
  "nbformat": 4,
  "nbformat_minor": 0,
  "metadata": {
    "colab": {
      "name": "prática3.ipynb",
      "provenance": [],
      "authorship_tag": "ABX9TyPuUWydeMlEb70Izvp4DpFv",
      "include_colab_link": true
    },
    "kernelspec": {
      "name": "python3",
      "display_name": "Python 3"
    },
    "language_info": {
      "name": "python"
    }
  },
  "cells": [
    {
      "cell_type": "markdown",
      "metadata": {
        "id": "view-in-github",
        "colab_type": "text"
      },
      "source": [
        "<a href=\"https://colab.research.google.com/github/EglimarRamirez/python/blob/main/pr%C3%A1tica3.ipynb\" target=\"_parent\"><img src=\"https://colab.research.google.com/assets/colab-badge.svg\" alt=\"Open In Colab\"/></a>"
      ]
    },
    {
      "cell_type": "code",
      "execution_count": 3,
      "metadata": {
        "colab": {
          "base_uri": "https://localhost:8080/"
        },
        "id": "j882gR82OF3d",
        "outputId": "dbfc3d66-fa17-4f5b-bcba-ac622e9d3748"
      },
      "outputs": [
        {
          "output_type": "stream",
          "name": "stdout",
          "text": [
            "ingrese un número: 5\n",
            "el factorial de 5 es: 120\n"
          ]
        }
      ],
      "source": [
        "# dos formas de calcular el factorial de un número\n",
        "\n",
        "# 1era:\n",
        "\n",
        "num = int(input(\"ingrese un número: \")) \n",
        "if num < 0: #validación del número ingresado\n",
        "  raise Exception(\"el número no es válido\") \n",
        "fact = 1 \n",
        "for n in range(2, num+1): \n",
        "  fact *=n \n",
        "print(f\"el factorial de\",num, \"es:\",fact) "
      ]
    },
    {
      "cell_type": "code",
      "source": [
        "# 2da:\n",
        "\n",
        "num = int(input(\"ingrese un número: \")) \n",
        "if num < 0: \n",
        "  raise Exception(\"el número no es válido\") \n",
        "def factorial(num):\n",
        "  if num == 1:\n",
        "    return 1\n",
        "  return num * factorial(num-1) \n",
        "print(f\"el factorial de\", num, \"es\", factorial(num))  "
      ],
      "metadata": {
        "colab": {
          "base_uri": "https://localhost:8080/"
        },
        "id": "RUhcIO6cO-pf",
        "outputId": "d2b8c5b4-86db-40a0-a6d8-3ccbde06a05b"
      },
      "execution_count": 4,
      "outputs": [
        {
          "output_type": "stream",
          "name": "stdout",
          "text": [
            "ingrese un número: 5\n",
            "el factorial de 5 es 120\n"
          ]
        }
      ]
    }
  ]
}