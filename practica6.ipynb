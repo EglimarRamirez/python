{
  "nbformat": 4,
  "nbformat_minor": 0,
  "metadata": {
    "colab": {
      "name": "practica6.ipynb",
      "provenance": [],
      "authorship_tag": "ABX9TyPosRoNCPqthTrDqaBdw+cF",
      "include_colab_link": true
    },
    "kernelspec": {
      "name": "python3",
      "display_name": "Python 3"
    },
    "language_info": {
      "name": "python"
    }
  },
  "cells": [
    {
      "cell_type": "markdown",
      "metadata": {
        "id": "view-in-github",
        "colab_type": "text"
      },
      "source": [
        "<a href=\"https://colab.research.google.com/github/EglimarRamirez/python/blob/main/practica6.ipynb\" target=\"_parent\"><img src=\"https://colab.research.google.com/assets/colab-badge.svg\" alt=\"Open In Colab\"/></a>"
      ]
    },
    {
      "cell_type": "code",
      "execution_count": null,
      "metadata": {
        "id": "jlr2BGPqalel"
      },
      "outputs": [],
      "source": [
        "##### PRÁCTICA TIPOS Y ESTRUCTURAS DE DATOS. CREANDO LISTAS Y DICCIONARIOS ####\n",
        "##### EJEMPLO DE NOTAS DE CLASE ####\n"
      ]
    },
    {
      "cell_type": "markdown",
      "source": [
        ""
      ],
      "metadata": {
        "id": "mP4aRxntdUoB"
      }
    },
    {
      "cell_type": "markdown",
      "source": [
        "Los estudiantes han completado tres exámenes, que ya hemos corregido previamente. Las calificaciones son las siguientes:\n",
        "\n",
        "Estudiante    | Examen 1 | Examen 2 | Examen 3\n",
        "--------------|----------|----------|---------\n",
        "Juan González | 7.5      | 6.2      | 8.1\n",
        "María Moreno  | 9.3      | 7.4      | 7.7\n",
        "Julia Sánchez | 5.6      | 4.1      | 4.4\n",
        "Pedro Vidal   | 3.8      | 4.1      | 6.4\n",
        "\n",
        "\n"
      ],
      "metadata": {
        "id": "PHbmGaT1D5G8"
      }
    },
    {
      "cell_type": "code",
      "source": [
        "#### creando un lista que guarda los nombres de los estudiantes ###\n",
        "\n",
        "lista_clase = [\"JUAN GONZÁLEZ\", \"MARÍA MORENO\", \"JULIA SÁNCHEZ\", \"PEDRO VIDAL\"]\n",
        "\n",
        "#### agregando las notas a una lista denominada notas ####\n",
        "\n",
        "notas = []\n",
        "\n",
        "notas.append((7.5, 6.2, 8.1))\n",
        "notas.append((9.3, 7.4, 7.7))\n",
        "notas.append((5.6, 4.1, 4.4))\n",
        "notas.append((3.8, 4.1, 6.4))\n",
        "\n",
        "####  calcuando la nota media de cada estudiante y guardándolo en un diccionario ###\n",
        "\n",
        "notas_medias = {}\n",
        "\n",
        "notas_medias[lista_clase[0]] = sum(notas[0]) / len(notas[0])\n",
        "notas_medias[lista_clase[1]] = sum(notas[1]) / len(notas[1])\n",
        "notas_medias[lista_clase[2]] = sum(notas[2]) / len(notas[2])\n",
        "notas_medias[lista_clase[3]] = sum(notas[3]) / len(notas[3])\n",
        "\n",
        "#######\n",
        "\n",
        "for nombre, nota_media in notas_medias.items():\n",
        "    print(f\"La nota media de {nombre} es {nota_media:.1f}\")"
      ],
      "metadata": {
        "colab": {
          "base_uri": "https://localhost:8080/"
        },
        "id": "lTVaGOzfeZAZ",
        "outputId": "e0b985ba-f245-4686-e988-e42bc3330a27"
      },
      "execution_count": 4,
      "outputs": [
        {
          "output_type": "stream",
          "name": "stdout",
          "text": [
            "La nota media de JUAN GONZÁLEZ es 7.3\n",
            "La nota media de MARÍA MORENO es 8.1\n",
            "La nota media de JULIA SÁNCHEZ es 4.7\n",
            "La nota media de PEDRO VIDAL es 4.8\n"
          ]
        }
      ]
    },
    {
      "cell_type": "code",
      "source": [
        "### calculando cuántos aprobados hay en la clase ###\n",
        "\n",
        "aprobados = {}\n",
        "aprobados[lista_clase[0]] = notas_medias[lista_clase[0]] >= 5\n",
        "aprobados[lista_clase[1]] = notas_medias[lista_clase[1]] >= 5\n",
        "aprobados[lista_clase[2]] = notas_medias[lista_clase[2]] >= 5\n",
        "aprobados[lista_clase[3]] = notas_medias[lista_clase[3]] >= 5\n",
        "\n",
        "######\n",
        "\n",
        "print(f\"Han aprobado {sum(aprobados.values())} estudiantes\")"
      ],
      "metadata": {
        "colab": {
          "base_uri": "https://localhost:8080/"
        },
        "id": "CuqfU13fjwfE",
        "outputId": "2df3e404-ef70-4fd4-93bf-b3770f4b50b8"
      },
      "execution_count": 5,
      "outputs": [
        {
          "output_type": "stream",
          "name": "stdout",
          "text": [
            "Han aprobado 2 estudiantes\n"
          ]
        }
      ]
    }
  ]
}